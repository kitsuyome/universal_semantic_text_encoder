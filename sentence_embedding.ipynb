{
  "cells": [
    {
      "cell_type": "markdown",
      "metadata": {
        "id": "FEBJjrfN_EYJ"
      },
      "source": [
        "# Sentence Embedding Evaluation\n",
        "\n",
        "This study is aimed at evaluating various sentence embedding methods, including Word2Vec, GloVe, BERT, T5, and SentenceTransformer."
      ]
    },
    {
      "cell_type": "markdown",
      "metadata": {
        "id": "56Itvpvw_J5i"
      },
      "source": [
        "## 1. Setup\n",
        "\n",
        "Here, we set up the necessary libraries and modules for our study.\n"
      ]
    },
    {
      "cell_type": "code",
      "execution_count": null,
      "metadata": {
        "id": "7fK2FRuX8jKX"
      },
      "outputs": [],
      "source": [
        "%load_ext autoreload\n",
        "%autoreload 2\n",
        "\n",
        "import numpy as np\n",
        "import pandas as pd\n",
        "import random\n",
        "import os\n",
        "\n",
        "import gensim.downloader as api\n",
        "from torchtext.vocab import GloVe\n",
        "from transformers import BertTokenizer, BertModel, T5Tokenizer, T5Model\n",
        "from sentence_transformers import SentenceTransformer\n",
        "from sklearn.metrics.pairwise import cosine_similarity\n",
        "import torch\n",
        "\n",
        "import re\n",
        "import nltk\n",
        "from nltk.corpus import stopwords\n",
        "nltk.download('stopwords')\n",
        "\n",
        "from utils import clone_senteval_repo, download_transfer_data, init_senteval_params, preprocess_text, setup_senteval\n",
        "\n",
        "torch.manual_seed(42)\n",
        "np.random.seed(42)\n",
        "random.seed(42)"
      ]
    },
    {
      "cell_type": "markdown",
      "metadata": {
        "id": "arV_7SFZ_NI1"
      },
      "source": [
        "## 2. Data Loading and Preprocessing\n",
        "\n",
        "We'll load and preprocess the STS Benchmark for further use, using utils.py."
      ]
    },
    {
      "cell_type": "code",
      "execution_count": 3,
      "metadata": {
        "id": "oU-NUqsC_Qg-"
      },
      "outputs": [],
      "source": [
        "clone_senteval_repo()\n",
        "download_transfer_data()\n",
        "params, tasks = init_senteval_params()\n",
        "setup_senteval()\n",
        "\n",
        "import senteval"
      ]
    },
    {
      "cell_type": "markdown",
      "metadata": {
        "id": "ceOtcilGRSzk"
      },
      "source": [
        "## 3. Model Loading and Embedding Functions\n",
        "\n",
        "In this section, we load the models and define functions to obtain sentence embeddings.\n"
      ]
    },
    {
      "cell_type": "code",
      "execution_count": null,
      "metadata": {
        "id": "WNRj7Yf6D72w"
      },
      "outputs": [],
      "source": [
        "w2v_model = api.load(\"word2vec-google-news-300\")\n",
        "\n",
        "def w2v_emb(params, batch):\n",
        "    embeddings = []\n",
        "    for sent in batch:\n",
        "        sent = sent or ['.']\n",
        "        sentvec = [w2v_model[word] for word in sent if word in w2v_model]\n",
        "        sentvec = np.mean(sentvec, axis=0) if sentvec else np.zeros(300)\n",
        "        embeddings.append(sentvec)\n",
        "    return np.vstack(embeddings)"
      ]
    },
    {
      "cell_type": "code",
      "execution_count": null,
      "metadata": {
        "id": "1riQd4xtD8-U"
      },
      "outputs": [],
      "source": [
        "glove_model = api.load(\"glove-wiki-gigaword-300\")\n",
        "\n",
        "def glove_emb(params, batch):\n",
        "    embeddings = []\n",
        "    for sent in batch:\n",
        "        sent = sent or ['.']\n",
        "        sentvec = [glove_model[word] for word in sent if word in glove_model]\n",
        "        sentvec = np.mean(sentvec, axis=0) if sentvec else np.zeros(300)\n",
        "        embeddings.append(sentvec)\n",
        "    return np.vstack(embeddings)"
      ]
    },
    {
      "cell_type": "code",
      "execution_count": null,
      "metadata": {
        "id": "GjM4MaUPD-Zw"
      },
      "outputs": [],
      "source": [
        "bert_tokenizer = BertTokenizer.from_pretrained('prajjwal1/bert-tiny')\n",
        "bert_model = BertModel.from_pretrained('prajjwal1/bert-tiny')\n",
        "\n",
        "def bert_emb(params, batch):\n",
        "    embeddings = []\n",
        "    for sent in batch:\n",
        "        sent = ' '.join(sent) or '.'\n",
        "        inputs = bert_tokenizer(sent, return_tensors=\"pt\", padding='max_length', truncation=True, max_length=128)\n",
        "        with torch.no_grad():\n",
        "            outputs = bert_model(**inputs)\n",
        "        sentvec = outputs.last_hidden_state.mean(dim=1).squeeze().numpy()\n",
        "        embeddings.append(sentvec)\n",
        "    return np.vstack(embeddings)"
      ]
    },
    {
      "cell_type": "code",
      "execution_count": null,
      "metadata": {
        "id": "tiBi_loSEAlU"
      },
      "outputs": [],
      "source": [
        "model_st = SentenceTransformer('distilbert-base-nli-mean-tokens')\n",
        "\n",
        "def st_emb(params, batch):\n",
        "    batch = [' '.join(sent) or '.' for sent in batch]\n",
        "    embeddings = model_st.encode(batch)\n",
        "    return embeddings"
      ]
    },
    {
      "cell_type": "markdown",
      "metadata": {
        "id": "gpF4XxQvRVFI"
      },
      "source": [
        "## 4. Evaluation\n",
        "\n",
        "This section will be dedicated to evaluating the quality of the sentence embeddings using various metrics.\n"
      ]
    },
    {
      "cell_type": "code",
      "source": [
        "se_w2v = senteval.engine.SE(params, w2v_emb)\n",
        "results_w2v = se_w2v.eval(tasks)"
      ],
      "metadata": {
        "id": "_pqpO-Qie3WJ"
      },
      "execution_count": 8,
      "outputs": []
    },
    {
      "cell_type": "code",
      "source": [
        "se_glove = senteval.engine.SE(params, glove_emb)\n",
        "results_glove = se_glove.eval(tasks)"
      ],
      "metadata": {
        "id": "rMK9DOHLA8ST"
      },
      "execution_count": 9,
      "outputs": []
    },
    {
      "cell_type": "code",
      "source": [
        "se_st = senteval.engine.SE(params, st_emb)\n",
        "results_st = se_st.eval(tasks)"
      ],
      "metadata": {
        "id": "IGc_PsULA5p1"
      },
      "execution_count": 10,
      "outputs": []
    },
    {
      "cell_type": "code",
      "source": [
        "se_bert = senteval.engine.SE(params, bert_emb)\n",
        "results_bert = se_bert.eval(tasks)"
      ],
      "metadata": {
        "id": "OyEWl_o5A6gf"
      },
      "execution_count": 13,
      "outputs": []
    },
    {
      "cell_type": "code",
      "execution_count": 22,
      "metadata": {
        "id": "MTzuEEBQFi3V",
        "colab": {
          "base_uri": "https://localhost:8080/",
          "height": 300
        },
        "outputId": "fa81a594-4dc2-41fc-8fa7-6fe3568c7ad6"
      },
      "outputs": [
        {
          "output_type": "execute_result",
          "data": {
            "text/plain": [
              "   Model             Task   Pearson  Spearman       MSE\n",
              "0    w2v  SICKRelatedness  0.801426  0.715178  0.364368\n",
              "1    w2v     STSBenchmark  0.642349  0.619679  1.646826\n",
              "2  glove  SICKRelatedness  0.786947  0.703704  0.388517\n",
              "3  glove     STSBenchmark  0.657788  0.645334  1.544022\n",
              "4     st  SICKRelatedness  0.850944  0.800511  0.282272\n",
              "5     st     STSBenchmark  0.753489  0.758108  1.094154\n",
              "6   bert  SICKRelatedness  0.778124  0.686694  0.401963\n",
              "7   bert     STSBenchmark  0.650744  0.636980  1.551939"
            ],
            "text/html": [
              "\n",
              "  <div id=\"df-9c77a155-e68f-41cb-beaf-76f3920ba4bd\" class=\"colab-df-container\">\n",
              "    <div>\n",
              "<style scoped>\n",
              "    .dataframe tbody tr th:only-of-type {\n",
              "        vertical-align: middle;\n",
              "    }\n",
              "\n",
              "    .dataframe tbody tr th {\n",
              "        vertical-align: top;\n",
              "    }\n",
              "\n",
              "    .dataframe thead th {\n",
              "        text-align: right;\n",
              "    }\n",
              "</style>\n",
              "<table border=\"1\" class=\"dataframe\">\n",
              "  <thead>\n",
              "    <tr style=\"text-align: right;\">\n",
              "      <th></th>\n",
              "      <th>Model</th>\n",
              "      <th>Task</th>\n",
              "      <th>Pearson</th>\n",
              "      <th>Spearman</th>\n",
              "      <th>MSE</th>\n",
              "    </tr>\n",
              "  </thead>\n",
              "  <tbody>\n",
              "    <tr>\n",
              "      <th>0</th>\n",
              "      <td>w2v</td>\n",
              "      <td>SICKRelatedness</td>\n",
              "      <td>0.801426</td>\n",
              "      <td>0.715178</td>\n",
              "      <td>0.364368</td>\n",
              "    </tr>\n",
              "    <tr>\n",
              "      <th>1</th>\n",
              "      <td>w2v</td>\n",
              "      <td>STSBenchmark</td>\n",
              "      <td>0.642349</td>\n",
              "      <td>0.619679</td>\n",
              "      <td>1.646826</td>\n",
              "    </tr>\n",
              "    <tr>\n",
              "      <th>2</th>\n",
              "      <td>glove</td>\n",
              "      <td>SICKRelatedness</td>\n",
              "      <td>0.786947</td>\n",
              "      <td>0.703704</td>\n",
              "      <td>0.388517</td>\n",
              "    </tr>\n",
              "    <tr>\n",
              "      <th>3</th>\n",
              "      <td>glove</td>\n",
              "      <td>STSBenchmark</td>\n",
              "      <td>0.657788</td>\n",
              "      <td>0.645334</td>\n",
              "      <td>1.544022</td>\n",
              "    </tr>\n",
              "    <tr>\n",
              "      <th>4</th>\n",
              "      <td>st</td>\n",
              "      <td>SICKRelatedness</td>\n",
              "      <td>0.850944</td>\n",
              "      <td>0.800511</td>\n",
              "      <td>0.282272</td>\n",
              "    </tr>\n",
              "    <tr>\n",
              "      <th>5</th>\n",
              "      <td>st</td>\n",
              "      <td>STSBenchmark</td>\n",
              "      <td>0.753489</td>\n",
              "      <td>0.758108</td>\n",
              "      <td>1.094154</td>\n",
              "    </tr>\n",
              "    <tr>\n",
              "      <th>6</th>\n",
              "      <td>bert</td>\n",
              "      <td>SICKRelatedness</td>\n",
              "      <td>0.778124</td>\n",
              "      <td>0.686694</td>\n",
              "      <td>0.401963</td>\n",
              "    </tr>\n",
              "    <tr>\n",
              "      <th>7</th>\n",
              "      <td>bert</td>\n",
              "      <td>STSBenchmark</td>\n",
              "      <td>0.650744</td>\n",
              "      <td>0.636980</td>\n",
              "      <td>1.551939</td>\n",
              "    </tr>\n",
              "  </tbody>\n",
              "</table>\n",
              "</div>\n",
              "    <div class=\"colab-df-buttons\">\n",
              "\n",
              "  <div class=\"colab-df-container\">\n",
              "    <button class=\"colab-df-convert\" onclick=\"convertToInteractive('df-9c77a155-e68f-41cb-beaf-76f3920ba4bd')\"\n",
              "            title=\"Convert this dataframe to an interactive table.\"\n",
              "            style=\"display:none;\">\n",
              "\n",
              "  <svg xmlns=\"http://www.w3.org/2000/svg\" height=\"24px\" viewBox=\"0 -960 960 960\">\n",
              "    <path d=\"M120-120v-720h720v720H120Zm60-500h600v-160H180v160Zm220 220h160v-160H400v160Zm0 220h160v-160H400v160ZM180-400h160v-160H180v160Zm440 0h160v-160H620v160ZM180-180h160v-160H180v160Zm440 0h160v-160H620v160Z\"/>\n",
              "  </svg>\n",
              "    </button>\n",
              "\n",
              "  <style>\n",
              "    .colab-df-container {\n",
              "      display:flex;\n",
              "      gap: 12px;\n",
              "    }\n",
              "\n",
              "    .colab-df-convert {\n",
              "      background-color: #E8F0FE;\n",
              "      border: none;\n",
              "      border-radius: 50%;\n",
              "      cursor: pointer;\n",
              "      display: none;\n",
              "      fill: #1967D2;\n",
              "      height: 32px;\n",
              "      padding: 0 0 0 0;\n",
              "      width: 32px;\n",
              "    }\n",
              "\n",
              "    .colab-df-convert:hover {\n",
              "      background-color: #E2EBFA;\n",
              "      box-shadow: 0px 1px 2px rgba(60, 64, 67, 0.3), 0px 1px 3px 1px rgba(60, 64, 67, 0.15);\n",
              "      fill: #174EA6;\n",
              "    }\n",
              "\n",
              "    .colab-df-buttons div {\n",
              "      margin-bottom: 4px;\n",
              "    }\n",
              "\n",
              "    [theme=dark] .colab-df-convert {\n",
              "      background-color: #3B4455;\n",
              "      fill: #D2E3FC;\n",
              "    }\n",
              "\n",
              "    [theme=dark] .colab-df-convert:hover {\n",
              "      background-color: #434B5C;\n",
              "      box-shadow: 0px 1px 3px 1px rgba(0, 0, 0, 0.15);\n",
              "      filter: drop-shadow(0px 1px 2px rgba(0, 0, 0, 0.3));\n",
              "      fill: #FFFFFF;\n",
              "    }\n",
              "  </style>\n",
              "\n",
              "    <script>\n",
              "      const buttonEl =\n",
              "        document.querySelector('#df-9c77a155-e68f-41cb-beaf-76f3920ba4bd button.colab-df-convert');\n",
              "      buttonEl.style.display =\n",
              "        google.colab.kernel.accessAllowed ? 'block' : 'none';\n",
              "\n",
              "      async function convertToInteractive(key) {\n",
              "        const element = document.querySelector('#df-9c77a155-e68f-41cb-beaf-76f3920ba4bd');\n",
              "        const dataTable =\n",
              "          await google.colab.kernel.invokeFunction('convertToInteractive',\n",
              "                                                    [key], {});\n",
              "        if (!dataTable) return;\n",
              "\n",
              "        const docLinkHtml = 'Like what you see? Visit the ' +\n",
              "          '<a target=\"_blank\" href=https://colab.research.google.com/notebooks/data_table.ipynb>data table notebook</a>'\n",
              "          + ' to learn more about interactive tables.';\n",
              "        element.innerHTML = '';\n",
              "        dataTable['output_type'] = 'display_data';\n",
              "        await google.colab.output.renderOutput(dataTable, element);\n",
              "        const docLink = document.createElement('div');\n",
              "        docLink.innerHTML = docLinkHtml;\n",
              "        element.appendChild(docLink);\n",
              "      }\n",
              "    </script>\n",
              "  </div>\n",
              "\n",
              "\n",
              "<div id=\"df-3fe9d103-9ba6-48e1-a85e-f77051151260\">\n",
              "  <button class=\"colab-df-quickchart\" onclick=\"quickchart('df-3fe9d103-9ba6-48e1-a85e-f77051151260')\"\n",
              "            title=\"Suggest charts.\"\n",
              "            style=\"display:none;\">\n",
              "\n",
              "<svg xmlns=\"http://www.w3.org/2000/svg\" height=\"24px\"viewBox=\"0 0 24 24\"\n",
              "     width=\"24px\">\n",
              "    <g>\n",
              "        <path d=\"M19 3H5c-1.1 0-2 .9-2 2v14c0 1.1.9 2 2 2h14c1.1 0 2-.9 2-2V5c0-1.1-.9-2-2-2zM9 17H7v-7h2v7zm4 0h-2V7h2v10zm4 0h-2v-4h2v4z\"/>\n",
              "    </g>\n",
              "</svg>\n",
              "  </button>\n",
              "\n",
              "<style>\n",
              "  .colab-df-quickchart {\n",
              "      --bg-color: #E8F0FE;\n",
              "      --fill-color: #1967D2;\n",
              "      --hover-bg-color: #E2EBFA;\n",
              "      --hover-fill-color: #174EA6;\n",
              "      --disabled-fill-color: #AAA;\n",
              "      --disabled-bg-color: #DDD;\n",
              "  }\n",
              "\n",
              "  [theme=dark] .colab-df-quickchart {\n",
              "      --bg-color: #3B4455;\n",
              "      --fill-color: #D2E3FC;\n",
              "      --hover-bg-color: #434B5C;\n",
              "      --hover-fill-color: #FFFFFF;\n",
              "      --disabled-bg-color: #3B4455;\n",
              "      --disabled-fill-color: #666;\n",
              "  }\n",
              "\n",
              "  .colab-df-quickchart {\n",
              "    background-color: var(--bg-color);\n",
              "    border: none;\n",
              "    border-radius: 50%;\n",
              "    cursor: pointer;\n",
              "    display: none;\n",
              "    fill: var(--fill-color);\n",
              "    height: 32px;\n",
              "    padding: 0;\n",
              "    width: 32px;\n",
              "  }\n",
              "\n",
              "  .colab-df-quickchart:hover {\n",
              "    background-color: var(--hover-bg-color);\n",
              "    box-shadow: 0 1px 2px rgba(60, 64, 67, 0.3), 0 1px 3px 1px rgba(60, 64, 67, 0.15);\n",
              "    fill: var(--button-hover-fill-color);\n",
              "  }\n",
              "\n",
              "  .colab-df-quickchart-complete:disabled,\n",
              "  .colab-df-quickchart-complete:disabled:hover {\n",
              "    background-color: var(--disabled-bg-color);\n",
              "    fill: var(--disabled-fill-color);\n",
              "    box-shadow: none;\n",
              "  }\n",
              "\n",
              "  .colab-df-spinner {\n",
              "    border: 2px solid var(--fill-color);\n",
              "    border-color: transparent;\n",
              "    border-bottom-color: var(--fill-color);\n",
              "    animation:\n",
              "      spin 1s steps(1) infinite;\n",
              "  }\n",
              "\n",
              "  @keyframes spin {\n",
              "    0% {\n",
              "      border-color: transparent;\n",
              "      border-bottom-color: var(--fill-color);\n",
              "      border-left-color: var(--fill-color);\n",
              "    }\n",
              "    20% {\n",
              "      border-color: transparent;\n",
              "      border-left-color: var(--fill-color);\n",
              "      border-top-color: var(--fill-color);\n",
              "    }\n",
              "    30% {\n",
              "      border-color: transparent;\n",
              "      border-left-color: var(--fill-color);\n",
              "      border-top-color: var(--fill-color);\n",
              "      border-right-color: var(--fill-color);\n",
              "    }\n",
              "    40% {\n",
              "      border-color: transparent;\n",
              "      border-right-color: var(--fill-color);\n",
              "      border-top-color: var(--fill-color);\n",
              "    }\n",
              "    60% {\n",
              "      border-color: transparent;\n",
              "      border-right-color: var(--fill-color);\n",
              "    }\n",
              "    80% {\n",
              "      border-color: transparent;\n",
              "      border-right-color: var(--fill-color);\n",
              "      border-bottom-color: var(--fill-color);\n",
              "    }\n",
              "    90% {\n",
              "      border-color: transparent;\n",
              "      border-bottom-color: var(--fill-color);\n",
              "    }\n",
              "  }\n",
              "</style>\n",
              "\n",
              "  <script>\n",
              "    async function quickchart(key) {\n",
              "      const quickchartButtonEl =\n",
              "        document.querySelector('#' + key + ' button');\n",
              "      quickchartButtonEl.disabled = true;  // To prevent multiple clicks.\n",
              "      quickchartButtonEl.classList.add('colab-df-spinner');\n",
              "      try {\n",
              "        const charts = await google.colab.kernel.invokeFunction(\n",
              "            'suggestCharts', [key], {});\n",
              "      } catch (error) {\n",
              "        console.error('Error during call to suggestCharts:', error);\n",
              "      }\n",
              "      quickchartButtonEl.classList.remove('colab-df-spinner');\n",
              "      quickchartButtonEl.classList.add('colab-df-quickchart-complete');\n",
              "    }\n",
              "    (() => {\n",
              "      let quickchartButtonEl =\n",
              "        document.querySelector('#df-3fe9d103-9ba6-48e1-a85e-f77051151260 button');\n",
              "      quickchartButtonEl.style.display =\n",
              "        google.colab.kernel.accessAllowed ? 'block' : 'none';\n",
              "    })();\n",
              "  </script>\n",
              "</div>\n",
              "    </div>\n",
              "  </div>\n"
            ]
          },
          "metadata": {},
          "execution_count": 22
        }
      ],
      "source": [
        "results = {\n",
        "    'w2v': results_w2v, 'glove': results_glove,\n",
        "    'st': results_st, 'bert': results_bert\n",
        "}\n",
        "\n",
        "df_list = []\n",
        "for model_name, tasks in results.items():\n",
        "    for task_name, metrics in tasks.items():\n",
        "        data_row = {\n",
        "            'Model': model_name,\n",
        "            'Task': task_name,\n",
        "            'Pearson': metrics.get('pearson', None),\n",
        "            'Spearman': metrics.get('spearman', None),\n",
        "            'MSE': metrics.get('mse', None)\n",
        "        }\n",
        "        df_list.append(data_row)\n",
        "\n",
        "df = pd.DataFrame(df_list)\n",
        "df"
      ]
    },
    {
      "cell_type": "markdown",
      "source": [
        "## 5. Conclusions\n"
      ],
      "metadata": {
        "id": "fKbfTEFohC4-"
      }
    },
    {
      "cell_type": "markdown",
      "source": [
        "Model's Depth and Complexity: Our results indicate that deeper models, specifically SentenceTransformers, produced the best results in terms of Pearson and Spearman correlations, supporting the hypothesis that model complexity matters.\n",
        "\n",
        "Training Data and Fine-tuning: SentenceTransformers, which is fine-tuned for sentence comparison tasks, outperformed other models in our experiments, validating the importance of task-specific fine-tuning.\n",
        "\n",
        "Tokenization and Input Representation: While BERT employs advanced tokenization, it did not significantly outperform GloVe in our tests. This suggests that while tokenization is important, other factors also play a role in determining embedding quality.\n",
        "\n",
        "Traditional Embeddings vs. Modern Techniques: Modern embeddings, particularly SentenceTransformers, showed superior performance compared to traditional methods, confirming that advancements in embedding techniques have led to improved performance.\n",
        "\n",
        "Impact of Model Architecture: The superior performance of SentenceTransformers and relatively high performance of BERT, both of which utilize attention mechanisms, supports the idea that model architecture plays a crucial role in determining embedding quality\n",
        "\n",
        "Overall Quality: All embedding methods provided reasonably good results, indicating their potential usefulness in various applications. However, for tasks that require a deep understanding of sentence semantics, using specialized models like SentenceTransformers would be beneficial."
      ],
      "metadata": {
        "id": "p-jALGPFMkFd"
      }
    }
  ],
  "metadata": {
    "accelerator": "GPU",
    "colab": {
      "provenance": []
    },
    "kernelspec": {
      "display_name": "Python 3",
      "name": "python3"
    },
    "language_info": {
      "name": "python"
    }
  },
  "nbformat": 4,
  "nbformat_minor": 0
}